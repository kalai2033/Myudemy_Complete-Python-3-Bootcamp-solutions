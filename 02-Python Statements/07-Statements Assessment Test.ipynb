{
 "cells": [
  {
   "cell_type": "markdown",
   "metadata": {},
   "source": [
    "___\n",
    "\n",
    "<a href='https://www.udemy.com/user/joseportilla/'><img src='../Pierian_Data_Logo.png'/></a>\n",
    "___\n",
    "<center><em>Content Copyright by Pierian Data</em></center>"
   ]
  },
  {
   "cell_type": "markdown",
   "metadata": {
    "collapsed": true
   },
   "source": [
    "# Statements Assessment Test\n",
    "Let's test your knowledge!"
   ]
  },
  {
   "cell_type": "markdown",
   "metadata": {},
   "source": [
    "_____\n",
    "**Use <code>for</code>, .split(), and <code>if</code> to create a Statement that will print out words that start with 's':**"
   ]
  },
  {
   "cell_type": "code",
   "execution_count": 7,
   "metadata": {},
   "outputs": [],
   "source": [
    "st = 'Print only the words that start with s in this sentence'"
   ]
  },
  {
   "cell_type": "code",
   "execution_count": 15,
   "metadata": {},
   "outputs": [
    {
     "name": "stdout",
     "output_type": "stream",
     "text": [
      "start\n",
      "s\n",
      "sentence\n"
     ]
    }
   ],
   "source": [
    "#Code here\n",
    "for word in st.split():\n",
    "    for ind,letter in enumerate(word):\n",
    "        if ind ==0 and letter == 's':\n",
    "            print(word)"
   ]
  },
  {
   "cell_type": "markdown",
   "metadata": {},
   "source": [
    "______\n",
    "**Use range() to print all the even numbers from 0 to 10.**"
   ]
  },
  {
   "cell_type": "code",
   "execution_count": 16,
   "metadata": {},
   "outputs": [
    {
     "name": "stdout",
     "output_type": "stream",
     "text": [
      "0\n",
      "2\n",
      "4\n",
      "6\n",
      "8\n",
      "10\n"
     ]
    }
   ],
   "source": [
    "#Code Here\n",
    "for num in range(11):\n",
    "    if num%2==0:\n",
    "        print(num)"
   ]
  },
  {
   "cell_type": "markdown",
   "metadata": {},
   "source": [
    "___\n",
    "**Use a List Comprehension to create a list of all numbers between 1 and 50 that are divisible by 3.**"
   ]
  },
  {
   "cell_type": "code",
   "execution_count": 18,
   "metadata": {},
   "outputs": [
    {
     "data": {
      "text/plain": [
       "[3, 6, 9, 12, 15, 18, 21, 24, 27, 30, 33, 36, 39, 42, 45, 48]"
      ]
     },
     "execution_count": 18,
     "metadata": {},
     "output_type": "execute_result"
    }
   ],
   "source": [
    "#Code in this cell\n",
    "[x for x in range(1,51) if x%3==0]"
   ]
  },
  {
   "cell_type": "markdown",
   "metadata": {},
   "source": [
    "_____\n",
    "**Go through the string below and if the length of a word is even print \"even!\"**"
   ]
  },
  {
   "cell_type": "code",
   "execution_count": 22,
   "metadata": {},
   "outputs": [],
   "source": [
    "st = 'Print every word in this sentence that has an even number of letters'"
   ]
  },
  {
   "cell_type": "code",
   "execution_count": 23,
   "metadata": {},
   "outputs": [
    {
     "name": "stdout",
     "output_type": "stream",
     "text": [
      "word\n",
      "in\n",
      "this\n",
      "sentence\n",
      "that\n",
      "an\n",
      "even\n",
      "number\n",
      "of\n"
     ]
    }
   ],
   "source": [
    "#Code in this cell\n",
    "for word in st.split():\n",
    "    if len(word)%2==0:\n",
    "        print(word)"
   ]
  },
  {
   "cell_type": "markdown",
   "metadata": {},
   "source": [
    "____\n",
    "**Write a program that prints the integers from 1 to 100. But for multiples of three print \"Fizz\" instead of the number, and for the multiples of five print \"Buzz\". For numbers which are multiples of both three and five print \"FizzBuzz\".**"
   ]
  },
  {
   "cell_type": "code",
   "execution_count": 29,
   "metadata": {},
   "outputs": [
    {
     "name": "stdout",
     "output_type": "stream",
     "text": [
      "The number is 3, therfore Fizz\n",
      "The number is 5, therfore Buzz\n",
      "The number is 6, therfore Fizz\n",
      "The number is 9, therfore Fizz\n",
      "The number is 10, therfore Buzz\n",
      "The number is 12, therfore Fizz\n",
      "The number is 15, therfore FizzBuzz\n",
      "The number is 18, therfore Fizz\n",
      "The number is 20, therfore Buzz\n",
      "The number is 21, therfore Fizz\n",
      "The number is 24, therfore Fizz\n",
      "The number is 25, therfore Buzz\n",
      "The number is 27, therfore Fizz\n",
      "The number is 30, therfore FizzBuzz\n",
      "The number is 33, therfore Fizz\n",
      "The number is 35, therfore Buzz\n",
      "The number is 36, therfore Fizz\n",
      "The number is 39, therfore Fizz\n",
      "The number is 40, therfore Buzz\n",
      "The number is 42, therfore Fizz\n",
      "The number is 45, therfore FizzBuzz\n",
      "The number is 48, therfore Fizz\n",
      "The number is 50, therfore Buzz\n",
      "The number is 51, therfore Fizz\n",
      "The number is 54, therfore Fizz\n",
      "The number is 55, therfore Buzz\n",
      "The number is 57, therfore Fizz\n",
      "The number is 60, therfore FizzBuzz\n",
      "The number is 63, therfore Fizz\n",
      "The number is 65, therfore Buzz\n",
      "The number is 66, therfore Fizz\n",
      "The number is 69, therfore Fizz\n",
      "The number is 70, therfore Buzz\n",
      "The number is 72, therfore Fizz\n",
      "The number is 75, therfore FizzBuzz\n",
      "The number is 78, therfore Fizz\n",
      "The number is 80, therfore Buzz\n",
      "The number is 81, therfore Fizz\n",
      "The number is 84, therfore Fizz\n",
      "The number is 85, therfore Buzz\n",
      "The number is 87, therfore Fizz\n",
      "The number is 90, therfore FizzBuzz\n",
      "The number is 93, therfore Fizz\n",
      "The number is 95, therfore Buzz\n",
      "The number is 96, therfore Fizz\n",
      "The number is 99, therfore Fizz\n",
      "The number is 100, therfore Buzz\n"
     ]
    }
   ],
   "source": [
    "#Code in this cell\n",
    "for ind,num in enumerate(range(1,101)):\n",
    "    ind+=1\n",
    "    if num%3==0 and num%5==0:\n",
    "        print(f'The number is {ind}, therfore FizzBuzz')   \n",
    "    elif num%5==0:\n",
    "        print(f'The number is {ind}, therfore Buzz')\n",
    "    elif num%3==0:\n",
    "        print(f'The number is {ind}, therfore Fizz')    "
   ]
  },
  {
   "cell_type": "markdown",
   "metadata": {},
   "source": [
    "____\n",
    "**Use List Comprehension to create a list of the first letters of every word in the string below:**"
   ]
  },
  {
   "cell_type": "code",
   "execution_count": 33,
   "metadata": {},
   "outputs": [],
   "source": [
    "st = 'Create a list of the first letters of every word in this string'"
   ]
  },
  {
   "cell_type": "code",
   "execution_count": 34,
   "metadata": {},
   "outputs": [
    {
     "data": {
      "text/plain": [
       "['C', 'a', 'l', 'o', 't', 'f', 'l', 'o', 'e', 'w', 'i', 't', 's']"
      ]
     },
     "execution_count": 34,
     "metadata": {},
     "output_type": "execute_result"
    }
   ],
   "source": [
    "#Code in this cell\n",
    "[letter[0] for letter in st.split()]"
   ]
  },
  {
   "cell_type": "markdown",
   "metadata": {},
   "source": [
    "### Great Job!"
   ]
  }
 ],
 "metadata": {
  "kernelspec": {
   "display_name": "Python 3",
   "language": "python",
   "name": "python3"
  },
  "language_info": {
   "codemirror_mode": {
    "name": "ipython",
    "version": 3
   },
   "file_extension": ".py",
   "mimetype": "text/x-python",
   "name": "python",
   "nbconvert_exporter": "python",
   "pygments_lexer": "ipython3",
   "version": "3.7.6"
  }
 },
 "nbformat": 4,
 "nbformat_minor": 1
}
