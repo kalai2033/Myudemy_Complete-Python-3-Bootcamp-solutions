{
 "cells": [
  {
   "cell_type": "markdown",
   "metadata": {},
   "source": [
    "___\n",
    "\n",
    "<a href='https://www.udemy.com/user/joseportilla/'><img src='../Pierian_Data_Logo.png'/></a>\n",
    "___\n",
    "<center><em>Content Copyright by Pierian Data</em></center>"
   ]
  },
  {
   "cell_type": "markdown",
   "metadata": {},
   "source": [
    "# Guessing Game Challenge\n",
    "\n",
    "Let's use `while` loops to create a guessing game.\n",
    "\n",
    "The Challenge:\n",
    "\n",
    "Write a program that picks a random integer from 1 to 100, and has players guess the number. The rules are:\n",
    "\n",
    "1. If a player's guess is less than 1 or greater than 100, say \"OUT OF BOUNDS\"\n",
    "2. On a player's first turn, if their guess is\n",
    " * within 10 of the number, return \"WARM!\"\n",
    " * further than 10 away from the number, return \"COLD!\"\n",
    "3. On all subsequent turns, if a guess is \n",
    " * closer to the number than the previous guess return \"WARMER!\"\n",
    " * farther from the number than the previous guess, return \"COLDER!\"\n",
    "4. When the player's guess equals the number, tell them they've guessed correctly *and* how many guesses it took!\n",
    "\n",
    "You can try this from scratch, or follow the steps outlined below. A separate Solution notebook has been provided. Good luck!\n"
   ]
  },
  {
   "cell_type": "markdown",
   "metadata": {},
   "source": [
    "#### First, pick a random integer from 1 to 100 using the random module and assign it to a variable\n",
    "\n",
    "Note: `random.randint(a,b)` returns a random integer in range `[a, b]`, including both end points."
   ]
  },
  {
   "cell_type": "code",
   "execution_count": 2,
   "metadata": {},
   "outputs": [
    {
     "data": {
      "text/plain": [
       "79"
      ]
     },
     "execution_count": 2,
     "metadata": {},
     "output_type": "execute_result"
    }
   ],
   "source": [
    "import random\n",
    "numbertobeguessed= random.randint(1,100)\n",
    "numbertobeguessed"
   ]
  },
  {
   "cell_type": "markdown",
   "metadata": {},
   "source": [
    "#### Next, print an introduction to the game and explain the rules"
   ]
  },
  {
   "cell_type": "code",
   "execution_count": null,
   "metadata": {
    "collapsed": true
   },
   "outputs": [],
   "source": [
    "attempts=0\n",
    "\n",
    "if attempts == 1:\n",
    "    if (numbertobeguessed - guessed) > 10 :\n",
    "        print('COLD')\n",
    "    else:\n",
    "        print('WARM')\n",
    "elif (numbertobeguessed - guessed) > 10 :\n",
    "    print('COLD')\n",
    "else:\n",
    "    print('WARM')        "
   ]
  },
  {
   "cell_type": "markdown",
   "metadata": {},
   "source": [
    "#### Create a list to store guesses\n",
    "\n",
    "Hint: zero is a good placeholder value. It's useful because it evaluates to \"False\""
   ]
  },
  {
   "cell_type": "code",
   "execution_count": 4,
   "metadata": {},
   "outputs": [],
   "source": []
  },
  {
   "cell_type": "markdown",
   "metadata": {},
   "source": [
    "#### Write a `while` loop that asks for a valid guess. Test it a few times to make sure it works."
   ]
  },
  {
   "cell_type": "code",
   "execution_count": 10,
   "metadata": {},
   "outputs": [
    {
     "name": "stdout",
     "output_type": "stream",
     "text": [
      "Attempt : 1\n",
      "Guess the number: 30\n",
      "COLD\n",
      "Attempt : 2\n",
      "The guessed numbers so far : [30]\n",
      "Guess the number: 90\n",
      "COLDER\n",
      "Attempt : 3\n",
      "The guessed numbers so far : [30, 90]\n",
      "Guess the number: 79\n",
      "Excellent Guess\n"
     ]
    }
   ],
   "source": [
    "Guessed_numbers=[]\n",
    "attempts=1\n",
    "print(f'Attempt : {attempts}')\n",
    "guessed = int(input('Guess the number: '))\n",
    "Guessed_numbers.append(guessed)\n",
    "if guessed == numbertobeguessed:\n",
    "    print('Excellent Guess')\n",
    "while numbertobeguessed != guessed:\n",
    "    if guessed < 1 or guessed > 200:\n",
    "        print('OUT OF BOUNDS')\n",
    "    if attempts <= 1:\n",
    "        if abs(numbertobeguessed - guessed) > 10:\n",
    "            print('COLD')\n",
    "        else:\n",
    "            print('WARM')\n",
    "    attempts+=1\n",
    "    print(f'Attempt : {attempts}')\n",
    "    print(f'The guessed numbers so far : {Guessed_numbers}')\n",
    "    guessed = int(input('Guess the number: '))  \n",
    "    Guessed_numbers.append(guessed)\n",
    "    if guessed == numbertobeguessed:\n",
    "        print('Excellent Guess')\n",
    "        break\n",
    "    if abs(Guessed_numbers[-2] - numbertobeguessed) > abs(guessed - numbertobeguessed):\n",
    "        print('COLDER')\n",
    "    else:\n",
    "        print('WARMER')            "
   ]
  },
  {
   "cell_type": "markdown",
   "metadata": {},
   "source": [
    "#### Write a `while` loop that compares the player's guess to our number. If the player guesses correctly, break from the loop. Otherwise, tell the player if they're warmer or colder, and continue asking for guesses.\n",
    "\n",
    "Some hints:\n",
    "* it may help to sketch out all possible combinations on paper first!\n",
    "* you can use the `abs()` function to find the positive difference between two numbers\n",
    "* if you append all new guesses to the list, then the previous guess is given as `guesses[-2]`"
   ]
  },
  {
   "cell_type": "code",
   "execution_count": null,
   "metadata": {
    "collapsed": true
   },
   "outputs": [],
   "source": [
    "while True:\n",
    "\n",
    "    # we can copy the code from above to take an input\n",
    "\n",
    "    pass"
   ]
  },
  {
   "cell_type": "markdown",
   "metadata": {},
   "source": [
    "That's it! You've just programmed your first game!\n",
    "\n",
    "In the next section we'll learn how to turn some of these repetitive actions into *functions* that can be called whenever we need them."
   ]
  },
  {
   "cell_type": "markdown",
   "metadata": {},
   "source": [
    "### Good Job!"
   ]
  }
 ],
 "metadata": {
  "kernelspec": {
   "display_name": "Python 3",
   "language": "python",
   "name": "python3"
  },
  "language_info": {
   "codemirror_mode": {
    "name": "ipython",
    "version": 3
   },
   "file_extension": ".py",
   "mimetype": "text/x-python",
   "name": "python",
   "nbconvert_exporter": "python",
   "pygments_lexer": "ipython3",
   "version": "3.7.6"
  }
 },
 "nbformat": 4,
 "nbformat_minor": 2
}
