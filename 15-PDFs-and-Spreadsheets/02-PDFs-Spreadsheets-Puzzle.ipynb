{
 "cells": [
  {
   "cell_type": "markdown",
   "metadata": {},
   "source": [
    "___\n",
    "\n",
    "<a href='https://www.udemy.com/user/joseportilla/'><img src='../Pierian_Data_Logo.png'/></a>\n",
    "___\n",
    "<center><em>Content Copyright by Pierian Data</em></center>"
   ]
  },
  {
   "cell_type": "markdown",
   "metadata": {},
   "source": [
    "# PDFs and Spreadsheets Puzzle Exercise\n",
    "\n",
    "Let's test your skills, the files needed for this puzzle exercise\n",
    "\n",
    "You will need to work with two files for this exercise and solve the following tasks:\n",
    "\n",
    "* Task One: Use Python to extract the Google Drive link from the .csv file. (Hint: Its along the diagonal from top left to bottom right).\n",
    "* Task Two: Download the PDF from the Google Drive link (we already downloaded it for you just in case you can't download from Google Drive) and find the phone number that is in the document. Note: There are different ways of formatting a phone number!"
   ]
  },
  {
   "cell_type": "markdown",
   "metadata": {},
   "source": [
    "## Task One: Grab the Google Drive Link from .csv File"
   ]
  },
  {
   "cell_type": "code",
   "execution_count": 1,
   "metadata": {},
   "outputs": [],
   "source": [
    "import csv"
   ]
  },
  {
   "cell_type": "code",
   "execution_count": 3,
   "metadata": {},
   "outputs": [],
   "source": [
    "csv_file = open('Exercise_Files/find_the_link.csv', encoding=\"utf-8\")\n",
    "csv_data = csv.reader(csv_file)\n",
    "data_lines = list(csv_data)"
   ]
  },
  {
   "cell_type": "code",
   "execution_count": 12,
   "metadata": {},
   "outputs": [
    {
     "data": {
      "text/plain": [
       "'https://drive.google.com/open?id=1G6SEgg018UB4_4xsAJJ5TdzrhmXipr4Q'"
      ]
     },
     "execution_count": 12,
     "metadata": {},
     "output_type": "execute_result"
    }
   ],
   "source": [
    "link=[]\n",
    "for ind,line in enumerate(data_lines):\n",
    "    link.append(line[ind])\n",
    "''.join(link)"
   ]
  },
  {
   "cell_type": "code",
   "execution_count": 14,
   "metadata": {},
   "outputs": [
    {
     "data": {
      "text/plain": [
       "'https://drive.google.com/open?id=1G6SEgg018UB4_4xsAJJ5TdzrhmXipr4Q'"
      ]
     },
     "execution_count": 14,
     "metadata": {},
     "output_type": "execute_result"
    }
   ],
   "source": [
    "# THe correct result is shown below, if you can't download from Google Drive, \n",
    "# we added the PDF file to the Exercise_Files folder already"
   ]
  },
  {
   "cell_type": "markdown",
   "metadata": {},
   "source": [
    "## Task Two: Download the PDF from the Google Drive link and find the phone number that is in the document. "
   ]
  },
  {
   "cell_type": "code",
   "execution_count": 27,
   "metadata": {},
   "outputs": [],
   "source": [
    "# You should get this phone number\n",
    "# 505 503 4455\n",
    "import PyPDF2\n",
    "import re"
   ]
  },
  {
   "cell_type": "code",
   "execution_count": 17,
   "metadata": {},
   "outputs": [
    {
     "data": {
      "text/plain": [
       "17"
      ]
     },
     "execution_count": 17,
     "metadata": {},
     "output_type": "execute_result"
    }
   ],
   "source": [
    "f = open('Exercise_Files/Find_the_Phone_Number.pdf','rb')\n",
    "pdf_reader = PyPDF2.PdfFileReader(f)\n",
    "pdf_reader.numPages"
   ]
  },
  {
   "cell_type": "code",
   "execution_count": 18,
   "metadata": {},
   "outputs": [],
   "source": [
    "pdf_text = []\n",
    "for p in range(pdf_reader.numPages):    \n",
    "    page = pdf_reader.getPage(p)    \n",
    "    pdf_text.append(page.extractText())"
   ]
  },
  {
   "cell_type": "code",
   "execution_count": 32,
   "metadata": {},
   "outputs": [
    {
     "name": "stdout",
     "output_type": "stream",
     "text": [
      "505.503.4455\n"
     ]
    }
   ],
   "source": [
    "pattern=r'\\d{3}.\\d{3}.\\d{4}'\n",
    "for word in pdf_text:\n",
    "    mat=re.search(pattern,word)\n",
    "    if mat:\n",
    "        print(mat.group())\n",
    "    \n",
    "    "
   ]
  },
  {
   "cell_type": "code",
   "execution_count": 29,
   "metadata": {},
   "outputs": [
    {
     "name": "stdout",
     "output_type": "stream",
     "text": [
      "Business Deliverables\n",
      " \n",
      " \n",
      " \n",
      "Staff engagement touch base yet can I just chime in on that one draw a line in the sand \n",
      "this proposal is a win\n",
      "-\n",
      "win situation which will cause a stellar paradigm shift, and \n",
      "produce a multi\n",
      "-\n",
      "fold increase in deliverables but \n",
      "future\n",
      "-\n",
      "proof. I dont care if you got some \n",
      "copy, why you dont use officeipsumcom or something like that ? low\n",
      "-\n",
      "hanging fruit beef \n",
      "up, and optimize for search or we need to leverage our synergies. We need to make the \n",
      "new version clean and sexy bells and whist\n",
      "les, so meeting assassin, and execute . \n",
      "Baseline the procedure and samepage your department push back yet strategic high\n",
      "-\n",
      "level 30,000 ft view powerPointless, but deliverables nor circle back. Paddle on both \n",
      "sides conversational content win\n",
      "-\n",
      "win\n",
      "-\n",
      "win nor pig \n",
      "in a python overcome key issues to \n",
      "meet key milestones. Personal development crisp ppt deep dive. Can we parallel path \n",
      "blue sky and this proposal is a win\n",
      "-\n",
      "win situation which will cause a stellar paradigm \n",
      "shift, and produce a multi\n",
      "-\n",
      "fold increase in deliver\n",
      "ables. Where the metal hits the meat \n",
      "horsehead offer. Onward and upward, productize the deliverables and focus on the \n",
      "\n",
      "knowledge process outsourcing. Slow\n",
      "-\n",
      "walk our commitmen\n",
      "t synergize productive \n",
      "mindfulness so high turnaround rate we need to harvest synergy effects. Who's the goto \n",
      "on this job with the way forward tbrand terrorists. Your work on this project has been \n",
      "really impactful. Pushback quantity shoot me an email so si\n",
      "ngle wringable neck hit the \n",
      "\n",
      "\n",
      "Performance review let's not solutionize this right now parkin\n",
      "g lot it so win\n",
      "-\n",
      "win\n",
      "-\n",
      "win and \n",
      "fast track gain traction. At the end of the day player\n",
      "-\n",
      "coach nor we need to leverage our \n",
      "synergies. Can we take this offline vec we've bootstrapped the model nor feature creep.\n",
      " \n",
      " \n",
      " \n",
      "Churning anomalies. Face time. Are we in agreeanc\n",
      "e 60% to 30% is a lot of persent no \n",
      "scraps hit the floor, nor critical mass. Can you run this by clearance? hot johnny coming \n",
      "through . This proposal is a win\n",
      "-\n",
      "win situation which will cause a stellar paradigm shift, \n",
      "and produce a multi\n",
      "-\n",
      "fold increase in del\n",
      "iverables we need to aspirationalise our \n",
      "offerings so this vendor is incompetent , nor organic growth. Dog and pony show. Turn \n",
      "the ship. If you want to motivate these clowns, try less carrot and more stick imagineer, \n",
      "but product market fit and we need to c\n",
      "rystallize a plan pro\n",
      "-\n",
      "sumer software for strategic \n",
      "fit programmatically.\n",
      " \n",
      " \n",
      " \n",
      "\n",
      "<re.Match object; span=(3, 6), match='000'>\n"
     ]
    }
   ],
   "source": [
    "pattern=r'\\d{3}'\n",
    "for word in pdf_text:\n",
    "    print(word)\n",
    "    for l in word.split():\n",
    "        mat=re.search(pattern,l)\n",
    "        if mat:\n",
    "            print(mat)\n",
    "    break"
   ]
  }
 ],
 "metadata": {
  "anaconda-cloud": {},
  "kernelspec": {
   "display_name": "Python 3",
   "language": "python",
   "name": "python3"
  },
  "language_info": {
   "codemirror_mode": {
    "name": "ipython",
    "version": 3
   },
   "file_extension": ".py",
   "mimetype": "text/x-python",
   "name": "python",
   "nbconvert_exporter": "python",
   "pygments_lexer": "ipython3",
   "version": "3.7.3"
  }
 },
 "nbformat": 4,
 "nbformat_minor": 2
}
