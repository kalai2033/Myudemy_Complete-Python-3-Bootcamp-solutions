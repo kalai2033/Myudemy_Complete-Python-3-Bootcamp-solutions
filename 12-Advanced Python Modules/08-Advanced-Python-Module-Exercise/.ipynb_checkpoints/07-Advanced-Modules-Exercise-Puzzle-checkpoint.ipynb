{
 "cells": [
  {
   "cell_type": "markdown",
   "metadata": {},
   "source": [
    "___\n",
    "\n",
    "<a href='https://www.udemy.com/user/joseportilla/'><img src='../../Pierian_Data_Logo.png'/></a>\n",
    "___\n",
    "<center><em>Content Copyright by Pierian Data</em></center>"
   ]
  },
  {
   "cell_type": "markdown",
   "metadata": {},
   "source": [
    "# Advanced Modules Exercise Puzzle\n",
    "\n",
    "It's time to test your new skills, this puzzle project will combine multiple skills sets, including unzipping files with Python, using os module to automatically search through lots of files.\n",
    "\n",
    "## Your Goal\n",
    "\n",
    "This is a puzzle, so we don't want to give you too much guidance and instead have you figure out things on your own.\n",
    "\n",
    "There is a .zip file called 'unzip_me_for_instructions.zip', unzip it, open the .txt file with Python, read the instructions and see if you can figure out what you need to do!\n",
    "\n",
    "**If you get stuck or don't know where to start, here is a [guide/hints](https://docs.google.com/document/d/1JxydUr4n4fSR0EwwuwT-aHia-yPK6r-oTBuVT2sqheo/edit?usp=sharing)**"
   ]
  },
  {
   "cell_type": "code",
   "execution_count": 33,
   "metadata": {},
   "outputs": [],
   "source": [
    "import shutil,os,re"
   ]
  },
  {
   "cell_type": "code",
   "execution_count": 15,
   "metadata": {},
   "outputs": [
    {
     "data": {
      "text/plain": [
       "'/home/kalai/Complete-Python-3-Bootcamp-master/12-Advanced Python Modules/08-Advanced-Python-Module-Exercise'"
      ]
     },
     "execution_count": 15,
     "metadata": {},
     "output_type": "execute_result"
    }
   ],
   "source": [
    "pwd"
   ]
  },
  {
   "cell_type": "code",
   "execution_count": 16,
   "metadata": {},
   "outputs": [],
   "source": [
    "shutil.unpack_archive('unzip_me_for_instructions.zip','/home/kalai/Complete-Python-3-Bootcamp-master/12-Advanced Python Modules/08-Advanced-Python-Module-Exercise/new'\n",
    ",'zip')"
   ]
  },
  {
   "cell_type": "code",
   "execution_count": 40,
   "metadata": {},
   "outputs": [
    {
     "name": "stdout",
     "output_type": "stream",
     "text": [
      "Instructions.txt\n",
      "Instructions.txt\n",
      "Instructions.txt\n",
      "Instructions.txt\n",
      "Instructions.txt\n",
      "None\n"
     ]
    }
   ],
   "source": [
    "for folder , sub_folders , files in os.walk(\"extracted_content/\"):\n",
    "    \n",
    " \n",
    "    for sub_fold in sub_folders:\n",
    "\n",
    "        for f in files:\n",
    "            \n",
    "            print(f)\n",
    "            if f=='Instructions.txt':\n",
    "                continue\n",
    "            with open(f) as txt:\n",
    "                for lines in txt:\n",
    "                    match = re.search(r'\\d{3}-\\d{3}-\\d{4}',lines)\n",
    "print(match)\n",
    "    \n",
    "    # Now look at subfolders"
   ]
  },
  {
   "cell_type": "code",
   "execution_count": 42,
   "metadata": {},
   "outputs": [
    {
     "data": {
      "text/plain": [
       "'/home/kalai/Complete-Python-3-Bootcamp-master/12-Advanced Python Modules/08-Advanced-Python-Module-Exercise'"
      ]
     },
     "execution_count": 42,
     "metadata": {},
     "output_type": "execute_result"
    }
   ],
   "source": [
    "pwd"
   ]
  },
  {
   "cell_type": "code",
   "execution_count": 91,
   "metadata": {},
   "outputs": [
    {
     "name": "stdout",
     "output_type": "stream",
     "text": [
      "['719-266-2837']\n"
     ]
    }
   ],
   "source": [
    "for folder , sub_folders , files in os.walk(\"extracted_content/\"):   \n",
    "    for f in files:\n",
    "\n",
    "        if f=='Instructions.txt':\n",
    "            continue\n",
    "        with open(f'{folder}/{f}','r') as txt:   \n",
    "            for line in txt:\n",
    "                for word in line.split():\n",
    "                    #print(word)\n",
    "                    mat=re.findall(r'\\d{3}-\\d{3}-\\d{4}',word)\n",
    "                    if mat:\n",
    "                        print(mat)\n",
    " \n",
    "    # Now look at subfolders"
   ]
  },
  {
   "cell_type": "code",
   "execution_count": 88,
   "metadata": {},
   "outputs": [],
   "source": [
    "if re.search(r'\\d{3}-\\d{3}-\\d{4}','A32-123-4567'):\n",
    "    print(True)"
   ]
  },
  {
   "cell_type": "code",
   "execution_count": 53,
   "metadata": {},
   "outputs": [
    {
     "name": "stdout",
     "output_type": "stream",
     "text": [
      "extracted_content/\n",
      "['Five', 'Four', 'One', 'Three', 'Two']\n",
      "['Instructions.txt']\n",
      "extracted_content/Five\n",
      "[]\n",
      "['EYTCGIOYWIW.txt', 'CAHBEVSVDDN.txt', 'DHZBAAYEADM.txt', 'COMGMZBJAYE.txt', 'AQKATDFGXTS.txt', 'CSCLFZCDYYC.txt', 'BNUQEHCFRTG.txt', 'AXJGVPVEFAS.txt', 'BVBURZZCAPR.txt', 'BSKJDRNEZQM.txt', 'APJKSRITGGX.txt', 'ESIZWBHMGDP.txt', 'DQPZQLBCJYP.txt', 'ARLKFCWIAJE.txt', 'BUGKBZWRRVI.txt', 'DZUWWXYIAEL.txt', 'CXBVCTRBBIE.txt', 'AEITMYIRQLP.txt', 'DDLASODUVPX.txt', 'EIPWXMQZJKU.txt', 'DYOPIIVMZOO.txt', 'ETCUEXWNBCF.txt', 'EAAOEPSAWMQ.txt', 'CRFSDGYFSHA.txt', 'BTYWAHLHKBM.txt']\n",
      "extracted_content/Four\n",
      "[]\n",
      "['QTDYYIFPHAU.txt', 'TJFMLJODVAD.txt', 'QCTCKDIBBVG.txt', 'EMTGPSXQEJX.txt', 'EXVQSVBQQQH.txt', 'QDDETWBHJYC.txt', 'RXDARIDGKBF.txt', 'THPNEGKTJWI.txt', 'WFSKPTXPFCH.txt', 'TKCZSFQNJTX.txt', 'WNJISWPEBRS.txt', 'TAKNAVDMZKV.txt', 'QVNJULGXNUM.txt', 'RSXOTNGKBML.txt', 'EPRNUHRSESC.txt', 'ECIOBYCDVFI.txt', 'WHTOHQUWXIN.txt', 'ROICPTWKXDX.txt', 'WYDLGSGGXKV.txt', 'RYNXFYXMKHG.txt', 'REAXWSOIQDY.txt', 'ESDIZXHYCVY.txt', 'QCWCFLKNZMN.txt', 'TWUOYFCCYBQ.txt', 'WXDJDOGZEHN.txt']\n",
      "extracted_content/One\n",
      "[]\n",
      "['HFUTPPAXDIS.txt', 'LPNDVDXPZIG.txt', 'HDOHZHFSTTK.txt', 'LHODFIKVTQA.txt', 'KNBSKDREHQU.txt', 'JEHBLZPUPSP.txt', 'LFEATJAAYDC.txt', 'LIFDHOFKWOI.txt', 'PLYCGPVEAWO.txt', 'HVUTZEVMSBW.txt', 'LDGOCUQJNNS.txt', 'HMNZTLIFGPD.txt', 'PTOBBCJYURJ.txt', 'HRQFTHKVJTL.txt', 'JLTXKIGCWDL.txt', 'JTHSNBNPQSE.txt', 'KFIUZFERLET.txt', 'PQNVCVJINAR.txt', 'KTXDHIOKAUI.txt', 'KCXGNQCZBLO.txt', 'PDJMSMNKIRM.txt', 'KMMLGJOWLGI.txt', 'PHWAVPEKAER.txt', 'JQUOBKFUACN.txt', 'JDLRVFCXYLU.txt']\n",
      "extracted_content/Three\n",
      "[]\n",
      "['VAQIJTDOFUJ.txt', 'YDQFMWXOUMW.txt', 'YCESZHJDBXH.txt', 'ZKQJXAYKPVD.txt', 'YQRNCMNFFHW.txt', 'ZXIBJMPROKW.txt', 'ZEZKKRBIZEB.txt', 'XJCWENFFGHB.txt', 'VVHFVZUNLOO.txt', 'XAJMCPEWFNI.txt', 'YQBIUHSUEVW.txt', 'VCFJCGJFBIH.txt', 'VVKGWLRMHLU.txt', 'VSXFSTABZDY.txt', 'ZXEZRQXZNPG.txt', 'XFHJOTNPEJG.txt', 'ZOWVXWPOGWP.txt', 'XVMPVSVYKFR.txt', 'XHZPVUQTXIO.txt', 'YYIZGBTQHZP.txt']\n",
      "extracted_content/Two\n",
      "[]\n",
      "['SWOFXREEHWA.txt', 'SOFUJYXTIMK.txt', 'HEORIXOTANT.txt', 'OYMAGXAGWHJ.txt', 'GTOTCIWMDBY.txt', 'SJMJLDGPBSJ.txt', 'HTOHSTYXTCO.txt', 'LSQSTGPIGIY.txt', 'LYZEQCVYNEZ.txt', 'OIHMLGMWTHL.txt', 'LCJZYDHBFRM.txt', 'SIKFPPLCJDN.txt', 'HMZXPBOPRAE.txt', 'OKWFOOYTXFU.txt', 'LVMBINRBJXL.txt', 'HARDNJGDRBC.txt', 'OMWIMVRCMYM.txt', 'GKQBQRCTNNK.txt', 'GQTJJORZBXY.txt', 'HMUTDOVNYTV.txt', 'GXYSEPAFRTP.txt', 'LULTNYAQEJG.txt', 'OHZOUOSFJQC.txt', 'GMMQQUBMJNR.txt', 'SPDZYGDHEWO.txt']\n"
     ]
    }
   ],
   "source": [
    "for folder , sub_folders , files in os.walk(\"extracted_content/\"):\n",
    "    print(folder)\n",
    "    print(sub_folders)\n",
    "    print(files)"
   ]
  },
  {
   "cell_type": "code",
   "execution_count": null,
   "metadata": {},
   "outputs": [],
   "source": []
  }
 ],
 "metadata": {
  "anaconda-cloud": {},
  "kernelspec": {
   "display_name": "Python 3",
   "language": "python",
   "name": "python3"
  },
  "language_info": {
   "codemirror_mode": {
    "name": "ipython",
    "version": 3
   },
   "file_extension": ".py",
   "mimetype": "text/x-python",
   "name": "python",
   "nbconvert_exporter": "python",
   "pygments_lexer": "ipython3",
   "version": "3.7.3"
  }
 },
 "nbformat": 4,
 "nbformat_minor": 2
}
