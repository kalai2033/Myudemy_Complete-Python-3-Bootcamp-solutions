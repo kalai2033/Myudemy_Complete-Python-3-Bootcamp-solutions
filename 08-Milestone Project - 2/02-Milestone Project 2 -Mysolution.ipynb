{
 "cells": [
  {
   "cell_type": "markdown",
   "metadata": {},
   "source": [
    "___\n",
    "\n",
    "<a href='https://www.udemy.com/user/joseportilla/'><img src='../Pierian_Data_Logo.png'/></a>\n",
    "___\n",
    "<center><em>Content Copyright by Pierian Data</em></center>"
   ]
  },
  {
   "cell_type": "markdown",
   "metadata": {
    "collapsed": true
   },
   "source": [
    "# Milestone Project 2 - Walkthrough Steps Workbook\n",
    "Below is a set of steps for you to follow to try to create the Blackjack Milestone Project game!"
   ]
  },
  {
   "cell_type": "markdown",
   "metadata": {},
   "source": [
    "## Game Play\n",
    "To play a hand of Blackjack the following steps must be followed:\n",
    "1. Create a deck of 52 cards\n",
    "2. Shuffle the deck\n",
    "3. Ask the Player for their bet\n",
    "4. Make sure that the Player's bet does not exceed their available chips\n",
    "5. Deal two cards to the Dealer and two cards to the Player\n",
    "6. Show only one of the Dealer's cards, the other remains hidden\n",
    "7. Show both of the Player's cards\n",
    "8. Ask the Player if they wish to Hit, and take another card\n",
    "9. If the Player's hand doesn't Bust (go over 21), ask if they'd like to Hit again.\n",
    "10. If a Player Stands, play the Dealer's hand. The dealer will always Hit until the Dealer's value meets or exceeds 17\n",
    "11. Determine the winner and adjust the Player's chips accordingly\n",
    "12. Ask the Player if they'd like to play again"
   ]
  },
  {
   "cell_type": "markdown",
   "metadata": {},
   "source": [
    "## Playing Cards\n",
    "A standard deck of playing cards has four suits (Hearts, Diamonds, Spades and Clubs) and thirteen ranks (2 through 10, then the face cards Jack, Queen, King and Ace) for a total of 52 cards per deck. Jacks, Queens and Kings all have a rank of 10. Aces have a rank of either 11 or 1 as needed to reach 21 without busting. As a starting point in your program, you may want to assign variables to store a list of suits, ranks, and then use a dictionary to map ranks to values."
   ]
  },
  {
   "cell_type": "markdown",
   "metadata": {},
   "source": [
    "## The Game\n",
    "### Imports and Global Variables\n",
    "** Step 1: Import the random module. This will be used to shuffle the deck prior to dealing. Then, declare variables to store suits, ranks and values. You can develop your own system, or copy ours below. Finally, declare a Boolean value to be used to control <code>while</code> loops. This is a common practice used to control the flow of the game.**\n",
    "\n",
    "    suits = ('Hearts', 'Diamonds', 'Spades', 'Clubs')\n",
    "    ranks = ('Two', 'Three', 'Four', 'Five', 'Six', 'Seven', 'Eight', 'Nine', 'Ten', 'Jack', 'Queen', 'King', 'Ace')\n",
    "    values = {'Two':2, 'Three':3, 'Four':4, 'Five':5, 'Six':6, 'Seven':7, 'Eight':8, 'Nine':9, 'Ten':10, 'Jack':10,\n",
    "             'Queen':10, 'King':10, 'Ace':11}"
   ]
  },
  {
   "cell_type": "code",
   "execution_count": 1,
   "metadata": {},
   "outputs": [],
   "source": [
    "import random\n",
    "import os\n",
    "from IPython.display import clear_output\n",
    "\n",
    "suits = ('Hearts', 'Diamonds', 'Spades', 'Clubs')\n",
    "ranks = ('Two', 'Three', 'Four', 'Five', 'Six', 'Seven', 'Eight', 'Nine', 'Ten', 'Jack', 'Queen', 'King', 'Ace')\n",
    "values = {'Two':2, 'Three':3, 'Four':4, 'Five':5, 'Six':6, 'Seven':7, 'Eight':8, 'Nine':9, 'Ten':10, 'Jack':10,\n",
    "             'Queen':10, 'King':10, 'Ace':11}\n",
    "\n",
    "playing = True"
   ]
  },
  {
   "cell_type": "markdown",
   "metadata": {},
   "source": [
    "### Class Definitions\n",
    "Consider making a Card class where each Card object has a suit and a rank, then a Deck class to hold all 52 Card objects, and can be shuffled, and finally a Hand class that holds those Cards that have been dealt to each player from the Deck."
   ]
  },
  {
   "cell_type": "markdown",
   "metadata": {},
   "source": [
    "**Step 2: Create a Card Class**<br>\n",
    "A Card object really only needs two attributes: suit and rank. You might add an attribute for \"value\" - we chose to handle value later when developing our Hand class.<br>In addition to the Card's \\_\\_init\\_\\_ method, consider adding a \\_\\_str\\_\\_ method that, when asked to print a Card, returns a string in the form \"Two of Hearts\""
   ]
  },
  {
   "cell_type": "code",
   "execution_count": 2,
   "metadata": {},
   "outputs": [],
   "source": [
    "class Card:\n",
    "    \n",
    "    def __init__(self,suit,rank):\n",
    "        self.suit=suit\n",
    "        self.rank=rank\n",
    "        self.value=values[rank]\n",
    "    \n",
    "    def __str__(self):\n",
    "        return f'{self.rank} of {self.suit} <-----> Value:{self.value}'"
   ]
  },
  {
   "cell_type": "markdown",
   "metadata": {},
   "source": [
    "**Step 3: Create a Deck Class**<br>\n",
    "Here we might store 52 card objects in a list that can later be shuffled. First, though, we need to *instantiate* all 52 unique card objects and add them to our list. So long as the Card class definition appears in our code, we can build Card objects inside our Deck \\_\\_init\\_\\_ method. Consider iterating over sequences of suits and ranks to build out each card. This might appear inside a Deck class \\_\\_init\\_\\_ method:\n",
    "\n",
    "    for suit in suits:\n",
    "        for rank in ranks:\n",
    "\n",
    "In addition to an \\_\\_init\\_\\_ method we'll want to add methods to shuffle our deck, and to deal out cards during gameplay.<br><br>\n",
    "OPTIONAL: We may never need to print the contents of the deck during gameplay, but having the ability to see the cards inside it may help troubleshoot any problems that occur during development. With this in mind, consider adding a \\_\\_str\\_\\_ method to the class definition."
   ]
  },
  {
   "cell_type": "code",
   "execution_count": 3,
   "metadata": {},
   "outputs": [],
   "source": [
    "class Deck:\n",
    "    \n",
    "    def __init__(self):\n",
    "        self.deck = []  # start with an empty list\n",
    "        for suit in suits:\n",
    "            for rank in ranks:\n",
    "                self.deck.append(Card(suit,rank))\n",
    "    \n",
    "    def __str__(self):\n",
    "        cardstr=[]\n",
    "        for cardobj in self.deck:\n",
    "            cardstr.append(cardobj.__str__())            \n",
    "        return f'{cardstr}'\n",
    "\n",
    "    def shuffle(self):\n",
    "        random.shuffle(self.deck)\n",
    "        \n",
    "    def deal(self):\n",
    "        return self.deck.pop()"
   ]
  },
  {
   "cell_type": "markdown",
   "metadata": {},
   "source": [
    "TESTING: Just to see that everything works so far, let's see what our Deck looks like!"
   ]
  },
  {
   "cell_type": "code",
   "execution_count": 4,
   "metadata": {},
   "outputs": [
    {
     "name": "stdout",
     "output_type": "stream",
     "text": [
      "['Two of Hearts <-----> Value:2', 'Three of Hearts <-----> Value:3', 'Four of Hearts <-----> Value:4', 'Five of Hearts <-----> Value:5', 'Six of Hearts <-----> Value:6', 'Seven of Hearts <-----> Value:7', 'Eight of Hearts <-----> Value:8', 'Nine of Hearts <-----> Value:9', 'Ten of Hearts <-----> Value:10', 'Jack of Hearts <-----> Value:10', 'Queen of Hearts <-----> Value:10', 'King of Hearts <-----> Value:10', 'Ace of Hearts <-----> Value:11', 'Two of Diamonds <-----> Value:2', 'Three of Diamonds <-----> Value:3', 'Four of Diamonds <-----> Value:4', 'Five of Diamonds <-----> Value:5', 'Six of Diamonds <-----> Value:6', 'Seven of Diamonds <-----> Value:7', 'Eight of Diamonds <-----> Value:8', 'Nine of Diamonds <-----> Value:9', 'Ten of Diamonds <-----> Value:10', 'Jack of Diamonds <-----> Value:10', 'Queen of Diamonds <-----> Value:10', 'King of Diamonds <-----> Value:10', 'Ace of Diamonds <-----> Value:11', 'Two of Spades <-----> Value:2', 'Three of Spades <-----> Value:3', 'Four of Spades <-----> Value:4', 'Five of Spades <-----> Value:5', 'Six of Spades <-----> Value:6', 'Seven of Spades <-----> Value:7', 'Eight of Spades <-----> Value:8', 'Nine of Spades <-----> Value:9', 'Ten of Spades <-----> Value:10', 'Jack of Spades <-----> Value:10', 'Queen of Spades <-----> Value:10', 'King of Spades <-----> Value:10', 'Ace of Spades <-----> Value:11', 'Two of Clubs <-----> Value:2', 'Three of Clubs <-----> Value:3', 'Four of Clubs <-----> Value:4', 'Five of Clubs <-----> Value:5', 'Six of Clubs <-----> Value:6', 'Seven of Clubs <-----> Value:7', 'Eight of Clubs <-----> Value:8', 'Nine of Clubs <-----> Value:9', 'Ten of Clubs <-----> Value:10', 'Jack of Clubs <-----> Value:10', 'Queen of Clubs <-----> Value:10', 'King of Clubs <-----> Value:10', 'Ace of Clubs <-----> Value:11']\n"
     ]
    }
   ],
   "source": [
    "test_deck = Deck()\n",
    "print(test_deck)"
   ]
  },
  {
   "cell_type": "markdown",
   "metadata": {},
   "source": [
    "Great! Now let's move on to our Hand class."
   ]
  },
  {
   "cell_type": "markdown",
   "metadata": {},
   "source": [
    "**Step 4: Create a Hand Class**<br>\n",
    "In addition to holding Card objects dealt from the Deck, the Hand class may be used to calculate the value of those cards using the values dictionary defined above. It may also need to adjust for the value of Aces when appropriate."
   ]
  },
  {
   "cell_type": "code",
   "execution_count": 5,
   "metadata": {},
   "outputs": [],
   "source": [
    "class Hand:\n",
    "    def __init__(self):\n",
    "        self.cards = []  # start with an empty list as we did in the Deck class\n",
    "        self.value = 0   # start with zero value\n",
    "        self.aces = 0    # add an attribute to keep track of aces\n",
    "        \n",
    "        \n",
    "    \n",
    "    def add_card(self,card):\n",
    "        self.value=0\n",
    "        self.aces = 0\n",
    "        self.cards.extend(card)\n",
    "        for cardobj in self.cards:\n",
    "            self.value+=cardobj.value\n",
    "            if cardobj.rank == 'Ace':\n",
    "                self.aces+=1 \n",
    "    \n",
    "    def show_cards(self):\n",
    "        cardstr=[]\n",
    "        for cardobj in self.cards:\n",
    "            cardstr.append(cardobj.__str__()) \n",
    "        return cardstr\n",
    "    \n",
    "    def adjust_for_ace(self):            \n",
    "        while self.aces > 0 and self.value > 21:\n",
    "            self.value-=10\n",
    "            self.aces-=1"
   ]
  },
  {
   "cell_type": "markdown",
   "metadata": {},
   "source": [
    "**Step 5: Create a Chips Class**<br>\n",
    "In addition to decks of cards and hands, we need to keep track of a Player's starting chips, bets, and ongoing winnings. This could be done using global variables, but in the spirit of object oriented programming, let's make a Chips class instead!"
   ]
  },
  {
   "cell_type": "code",
   "execution_count": 31,
   "metadata": {},
   "outputs": [],
   "source": [
    "class Chips:\n",
    "    \n",
    "    def __init__(self,bet,total):\n",
    "        self.total = total  # This can be set to a default value or supplied by a user input\n",
    "        self.bet = bet\n",
    "    \n",
    "    def __str__(self):\n",
    "        return f'\\n Total chips remaining are: {self.total}'\n",
    "        \n",
    "    def win_bet(self):\n",
    "        self.total = self.total + self.bet\n",
    "    \n",
    "    def lose_bet(self):\n",
    "        self.total = self.total - self.bet"
   ]
  },
  {
   "cell_type": "markdown",
   "metadata": {},
   "source": [
    "### Function Defintions\n",
    "A lot of steps are going to be repetitive. That's where functions come in! The following steps are guidelines - add or remove functions as needed in your own program."
   ]
  },
  {
   "cell_type": "markdown",
   "metadata": {},
   "source": [
    "**Step 6: Write a function for taking bets**<br>\n",
    "Since we're asking the user for an integer value, this would be a good place to use <code>try</code>/<code>except</code>. Remember to check that a Player's bet can be covered by their available chips."
   ]
  },
  {
   "cell_type": "code",
   "execution_count": 42,
   "metadata": {},
   "outputs": [],
   "source": [
    "def take_bet(available_chips):\n",
    "    try:\n",
    "        while True:\n",
    "            bet_amt = int(input('Enter the bet amount: '))\n",
    "            chipobj = Chips(bet_amt,available_chips)\n",
    "            if bet_amt < chipobj.total:\n",
    "                return bet_amt\n",
    "            else:\n",
    "                print(f'\\nInsufficient chips!!!!.Available chips are {chipobj.total}')\n",
    "    except:\n",
    "        print('\\nEnter a valid integer number!!!!')"
   ]
  },
  {
   "cell_type": "markdown",
   "metadata": {},
   "source": [
    "**Step 7: Write a function for taking hits**<br>\n",
    "Either player can take hits until they bust. This function will be called during gameplay anytime a Player requests a hit, or a Dealer's hand is less than 17. It should take in Deck and Hand objects as arguments, and deal one card off the deck and add it to the Hand. You may want it to check for aces in the event that a player's hand exceeds 21."
   ]
  },
  {
   "cell_type": "code",
   "execution_count": 8,
   "metadata": {},
   "outputs": [],
   "source": [
    "def hit(deck,hand):\n",
    "    hand.add_card([deck.deal()])\n",
    "    hand.adjust_for_ace()"
   ]
  },
  {
   "cell_type": "code",
   "execution_count": 9,
   "metadata": {},
   "outputs": [
    {
     "data": {
      "text/plain": [
       "True"
      ]
     },
     "execution_count": 9,
     "metadata": {},
     "output_type": "execute_result"
    }
   ],
   "source": [
    "playing"
   ]
  },
  {
   "cell_type": "markdown",
   "metadata": {},
   "source": [
    "**Step 8: Write a function prompting the Player to Hit or Stand**<br>\n",
    "This function should accept the deck and the player's hand as arguments, and assign playing as a global variable.<br>\n",
    "If the Player Hits, employ the hit() function above. If the Player Stands, set the playing variable to False - this will control the behavior of a <code>while</code> loop later on in our code."
   ]
  },
  {
   "cell_type": "code",
   "execution_count": 10,
   "metadata": {},
   "outputs": [],
   "source": [
    "def hit_or_stand(deck,hand):\n",
    "    global playing  # to control an upcoming while loop\n",
    "    try:\n",
    "        while True:\n",
    "            flag=input('\\n Hit or Stand:')\n",
    "            if flag.capitalize().startswith('H'):\n",
    "                hit(deck,hand)\n",
    "                break\n",
    "            else:\n",
    "                playing=False\n",
    "                break\n",
    "    except:\n",
    "        print('\\nEnter either Hit or Stand!!!!')"
   ]
  },
  {
   "cell_type": "code",
   "execution_count": 11,
   "metadata": {},
   "outputs": [
    {
     "data": {
      "text/plain": [
       "True"
      ]
     },
     "execution_count": 11,
     "metadata": {},
     "output_type": "execute_result"
    }
   ],
   "source": [
    "'hlaying'.capitalize().startswith('H')"
   ]
  },
  {
   "cell_type": "markdown",
   "metadata": {},
   "source": [
    "**Step 9: Write functions to display cards**<br>\n",
    "When the game starts, and after each time Player takes a card, the dealer's first card is hidden and all of Player's cards are visible. At the end of the hand all cards are shown, and you may want to show each hand's total value. Write a function for each of these scenarios."
   ]
  },
  {
   "cell_type": "code",
   "execution_count": 12,
   "metadata": {},
   "outputs": [],
   "source": [
    "def show_some(player,dealer):\n",
    "    playercards=player.show_cards()\n",
    "    dealercards=dealer.show_cards()\n",
    "    print(f'''*****************************************\n",
    "    The player cards are : {playercards}\n",
    "    Its total value: {player.value}\n",
    "    The Dealer card is : {dealercards[0]}\n",
    "    *****************************************''')\n",
    "\n",
    "def show_all(player,dealer):    \n",
    "    playercards=player.show_cards()\n",
    "    dealercards=dealer.show_cards()\n",
    "    print(f'''*****************************************\n",
    "    The player cards are : {playercards}\n",
    "    Its total value: {player.value}\n",
    "    The Dealer cards are : {dealercards}\n",
    "    Its total value: {dealer.value}')\n",
    "    *****************************************''')"
   ]
  },
  {
   "cell_type": "markdown",
   "metadata": {},
   "source": [
    "**Step 10: Write functions to handle end of game scenarios**<br>\n",
    "Remember to pass player's hand, dealer's hand and chips as needed."
   ]
  },
  {
   "cell_type": "code",
   "execution_count": 13,
   "metadata": {},
   "outputs": [],
   "source": [
    "def clear():\n",
    "    os.system( 'cls' )\n",
    "    \n",
    "def player_busts(player):\n",
    "    if player.value > 21:\n",
    "        print('\\nThe player busted!!!!!!!!!!!!!')\n",
    "        return True\n",
    "    return False       \n",
    "\n",
    "def player_wins(player,dealer):\n",
    "    if player.value > dealer.value:\n",
    "        print('\\nThe player wins!!!!!!!!!!!!!')\n",
    "        return True\n",
    "    return False\n",
    "\n",
    "def dealer_busts(dealer):\n",
    "    if dealer.value > 21:\n",
    "        print('\\nThe dealer busted!!!!!!!!!!!!!')\n",
    "        return True\n",
    "    return False\n",
    "    \n",
    "def dealer_wins(player,dealer):\n",
    "    if player.value < dealer.value:\n",
    "        print('\\nThe dealer wins!!!!!!!!!!!!!')\n",
    "        return True\n",
    "    return False\n",
    "    \n",
    "def push(player,dealer):\n",
    "    if player.value == dealer.value:\n",
    "        print('\\nMatch Tied!!!!!!!!')"
   ]
  },
  {
   "cell_type": "markdown",
   "metadata": {},
   "source": [
    "## Game Play\n",
    "To play a hand of Blackjack the following steps must be followed:\n",
    "1. Create a deck of 52 cards\n",
    "2. Shuffle the deck\n",
    "3. Ask the Player for their bet\n",
    "4. Make sure that the Player's bet does not exceed their available chips\n",
    "5. Deal two cards to the Dealer and two cards to the Player\n",
    "6. Show only one of the Dealer's cards, the other remains hidden\n",
    "7. Show both of the Player's cards\n",
    "8. Ask the Player if they wish to Hit, and take another card\n",
    "99. If the Player's hand doesn't Bust (go over 21), ask if they'd like to Hit again.\n",
    "10. If a Player Stands, play the Dealer's hand. The dealer will always Hit until the Dealer's value meets or exceeds 17\n",
    "11. Determine the winner and adjust the Player's chips accordingly\n",
    "12. Ask the Player if they'd like to play again"
   ]
  },
  {
   "cell_type": "markdown",
   "metadata": {},
   "source": [
    "### And now on to the game!!"
   ]
  },
  {
   "cell_type": "code",
   "execution_count": 46,
   "metadata": {},
   "outputs": [
    {
     "name": "stdout",
     "output_type": "stream",
     "text": [
      "\n",
      "!!!!Welcome to the BlackJacK game!!!!\n",
      "\n",
      "!!!PLACE YOUR BET!!!\n",
      "Enter the bet amount: 10\n",
      "\n",
      "Insufficient chips!!!!.Available chips are 8\n",
      "Enter the bet amount: 3\n",
      "\n",
      "!!!Splitting cards!!!\n",
      "\n",
      "!!!CARDS IN THE DECK!!!\n",
      "*****************************************\n",
      "    The player cards are : ['Three of Diamonds <-----> Value:3', 'Ace of Spades <-----> Value:11']\n",
      "    Its total value: 14\n",
      "    The Dealer card is : Queen of Hearts <-----> Value:10\n",
      "    *****************************************\n",
      "\n",
      "!!!PLAYERS TURN!!!\n",
      "\n",
      " Hit or Stand:Hit\n",
      "*****************************************\n",
      "    The player cards are : ['Three of Diamonds <-----> Value:3', 'Ace of Spades <-----> Value:11', 'Seven of Clubs <-----> Value:7']\n",
      "    Its total value: 21\n",
      "    The Dealer card is : Queen of Hearts <-----> Value:10\n",
      "    *****************************************\n",
      "\n",
      "!!!DEALERS TURN!!!\n",
      "*****************************************\n",
      "    The player cards are : ['Three of Diamonds <-----> Value:3', 'Ace of Spades <-----> Value:11', 'Seven of Clubs <-----> Value:7']\n",
      "    Its total value: 21\n",
      "    The Dealer cards are : ['Queen of Hearts <-----> Value:10', 'Six of Clubs <-----> Value:6', 'King of Spades <-----> Value:10']\n",
      "    Its total value: 26')\n",
      "    *****************************************\n",
      "\n",
      "The dealer busted!!!!!!!!!!!!!\n",
      "\n",
      "!!!End of game!!!\n",
      "\n",
      " Total chips remaining are: 11\n",
      "\n",
      "Repeat the game: Type Y or NN\n",
      "\n",
      "!!!THANKS FOR PLAYING!!!\n"
     ]
    }
   ],
   "source": [
    "playing=True\n",
    "available_chips=10\n",
    "while True:\n",
    "    # Print an opening statement\n",
    "    print('\\n!!!!Welcome to the BlackJacK game!!!!')\n",
    "    deckobj=Deck()\n",
    "    deckobj.shuffle()\n",
    "    playercards=[]\n",
    "    dealercards=[]\n",
    "    for _ in range(2):\n",
    "        playercards.append(deckobj.deal())\n",
    "        dealercards.append(deckobj.deal())\n",
    "    print('\\n!!!PLACE YOUR BET!!!')\n",
    "    bet_amt=take_bet(available_chips)\n",
    "    chipobj=Chips(bet_amt,available_chips)\n",
    "    playerhandobj=Hand()\n",
    "    dealerhandobj=Hand()\n",
    "    print('\\n!!!Splitting cards!!!')\n",
    "    playerhandobj.add_card(playercards)\n",
    "    playerhandobj.adjust_for_ace()\n",
    "    dealerhandobj.add_card(dealercards)\n",
    "    print('\\n!!!CARDS IN THE DECK!!!')\n",
    "    show_some(playerhandobj,dealerhandobj)\n",
    "    while playing:\n",
    "        print('\\n!!!PLAYERS TURN!!!')\n",
    "        hit_or_stand(deckobj,playerhandobj) \n",
    "        show_some(playerhandobj,dealerhandobj)\n",
    "        if player_busts(playerhandobj):\n",
    "            chipobj.lose_bet()\n",
    "            break\n",
    "        print('\\n!!!DEALERS TURN!!!')\n",
    "        while dealerhandobj.value < 17:\n",
    "            hit(deckobj,dealerhandobj)\n",
    "        show_all(playerhandobj,dealerhandobj)            \n",
    "        if dealer_busts(dealerhandobj):\n",
    "            chipobj.win_bet()\n",
    "            break        \n",
    "            \n",
    "        if player_wins(playerhandobj,dealerhandobj):\n",
    "            chipobj.win_bet()\n",
    "            break\n",
    "\n",
    "        if dealer_wins(playerhandobj,dealerhandobj):\n",
    "            chipobj.lose_bet() \n",
    "            break\n",
    "                \n",
    "        if push(playerhandobj,dealerhandobj):\n",
    "            pass\n",
    "    print('\\n!!!End of game!!!')        \n",
    "    print(chipobj)\n",
    "    replay=input('\\nRepeat the game: Type Y or N')\n",
    "    if replay == 'N':\n",
    "        print('\\n!!!THANKS FOR PLAYING!!!')\n",
    "        break\n",
    "    else:\n",
    "        clear_output()\n",
    "        available_chips=chipobj.total\n",
    "        playing=True\n",
    "        continue"
   ]
  },
  {
   "cell_type": "markdown",
   "metadata": {},
   "source": [
    "And that's it! Remember, these steps may differ significantly from your own solution. That's OK! Keep working on different sections of your program until you get the desired results. It takes a lot of time and patience! As always, feel free to post questions and comments to the QA Forums.\n",
    "# Good job!"
   ]
  }
 ],
 "metadata": {
  "kernelspec": {
   "display_name": "Python 3",
   "language": "python",
   "name": "python3"
  },
  "language_info": {
   "codemirror_mode": {
    "name": "ipython",
    "version": 3
   },
   "file_extension": ".py",
   "mimetype": "text/x-python",
   "name": "python",
   "nbconvert_exporter": "python",
   "pygments_lexer": "ipython3",
   "version": "3.7.3"
  }
 },
 "nbformat": 4,
 "nbformat_minor": 1
}
